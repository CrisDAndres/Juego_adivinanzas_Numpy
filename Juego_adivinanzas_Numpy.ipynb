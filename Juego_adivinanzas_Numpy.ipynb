{
 "cells": [
  {
   "cell_type": "markdown",
   "metadata": {},
   "source": [
    "### Juego de adivinanzas con Numpy\n",
    "\n",
    "### Instrucciones:\n",
    "\n",
    "- El programa ha generado un número aleatorio entre 1 y 100.\n",
    "- Tienes 10 intentos para adivinar el número.\n",
    "- Después de cada intento, recibirás una pista si tu adivinanza es mayor o menor que el número.\n",
    "- Si adivinas el número, el programa te felicitará y terminará.\n",
    "- Si no adivinas el número en 10 intentos, el programa te dirá cuál era el número.\n",
    "- Para salir del juego, escribe 'exit' en lugar de un número."
   ]
  },
  {
   "cell_type": "code",
   "execution_count": null,
   "metadata": {},
   "outputs": [],
   "source": [
    "# Usar Tkiner para hacer una interfaz gráfica (opcional, a futuro se puede implementar)"
   ]
  },
  {
   "cell_type": "code",
   "execution_count": 2,
   "metadata": {},
   "outputs": [],
   "source": [
    "import numpy as np"
   ]
  },
  {
   "cell_type": "code",
   "execution_count": 6,
   "metadata": {},
   "outputs": [
    {
     "name": "stdout",
     "output_type": "stream",
     "text": [
      "Por favor, ingrese un número válido o \"exit\" para salir.\n",
      "¿No quieres seguir intentándolo? Bueno, otra vez será. ¡Hasta pronto!\n"
     ]
    }
   ],
   "source": [
    "def adivinanza():\n",
    "    intento = 0\n",
    "    num_aleatorio = np.random.randint(1,101) # Generamos un número aleatorio entre 1 y 100\n",
    "    \n",
    "    while intento < 9 or intento == 9: \n",
    "        jugar = input('¿Conseguirás acertar el número correcto? Inserte un número entre el 1 al 100. Dispones de 10 intentos (o escribe exit para salir): ') \n",
    "        \n",
    "        if jugar.lower() == 'exit':\n",
    "            \n",
    "            print('¿No quieres seguir intentándolo? Bueno, otra vez será. ¡Hasta pronto!')\n",
    "            break\n",
    "        \n",
    "        else:\n",
    "            try:\n",
    "                \n",
    "                numero = int(jugar) # input devuelve una cadena de texto, necesitamos pasarla a entero\n",
    "            \n",
    "                if intento == 9:\n",
    "                \n",
    "                    print('Ha superado el número de intentos. Acceso denegado')\n",
    "                    print('Para que no te quedes con la intriga... el número correcto era', num_aleatorio)\n",
    "\n",
    "                elif numero < 1 or numero > 100:\n",
    "                    \n",
    "                    print('Lo siento, el número debe estar entre 1 y 100.')\n",
    "                \n",
    "                    continue # Al poner continue, no cuenta este intento\n",
    "                \n",
    "                elif numero < num_aleatorio:\n",
    "                    \n",
    "                    intentos_restantes = 9 - intento\n",
    "                    print(f'Inserte un número mayor. Te quedan {intentos_restantes} intentos.')\n",
    "                    \n",
    "                elif numero > num_aleatorio:\n",
    "                    \n",
    "                    intentos_restantes = 9 - intento\n",
    "                    print(f'Inserte un número menor. Te quedan {intentos_restantes} intentos.')\n",
    "                    \n",
    "                else:\n",
    "                    print('¡Enhorabuena, has acertado!')\n",
    "                    break\n",
    "            \n",
    "            except ValueError: # Maneja el caso en que se ingrese un valor no numérico\n",
    "                print('Por favor, ingrese un número válido o \"exit\" para salir.')\n",
    "                continue\n",
    "            \n",
    "            intento += 1 \n",
    "            \n",
    "adivinanza()"
   ]
  }
 ],
 "metadata": {
  "kernelspec": {
   "display_name": "Python 3",
   "language": "python",
   "name": "python3"
  },
  "language_info": {
   "codemirror_mode": {
    "name": "ipython",
    "version": 3
   },
   "file_extension": ".py",
   "mimetype": "text/x-python",
   "name": "python",
   "nbconvert_exporter": "python",
   "pygments_lexer": "ipython3",
   "version": "3.10.10"
  }
 },
 "nbformat": 4,
 "nbformat_minor": 2
}

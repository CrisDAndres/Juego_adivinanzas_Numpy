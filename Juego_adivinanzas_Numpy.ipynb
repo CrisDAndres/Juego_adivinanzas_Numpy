{
 "cells": [
  {
   "cell_type": "code",
   "execution_count": null,
   "metadata": {},
   "outputs": [],
   "source": [
    "# Juego de Adivinanzas con NumPy\n",
    "# Instrucciones: El programa ha generado un número aleatorio entre 1 y 100.\n",
    "# Tienes 10 intentos para adivinar el número.\n",
    "# Después de cada intento, recibirás una pista si tu adivinanza es mayor o menor que el número.\n",
    "# Si adivinas el número, el programa te felicitará y terminará.\n",
    "# Si no adivinas el número en 10 intentos, el programa te dirá cuál era el número.\n",
    "# Para salir del juego, escribe 'exit' en lugar de un número.\n",
    "# Puedes usar Tkiner para hacer una interfaz gráfica. (opcional, a futuro se puede implementar si tienen tiempo el fin de semana)"
   ]
  },
  {
   "cell_type": "code",
   "execution_count": 1,
   "metadata": {},
   "outputs": [],
   "source": [
    "import numpy as np"
   ]
  },
  {
   "cell_type": "code",
   "execution_count": 9,
   "metadata": {},
   "outputs": [
    {
     "name": "stdout",
     "output_type": "stream",
     "text": [
      "Inserte un número mayor. Te quedan 9 intentos.\n",
      "Inserte un número mayor. Te quedan 8 intentos.\n",
      "Inserte un número mayor. Te quedan 7 intentos.\n",
      "Inserte un número mayor. Te quedan 6 intentos.\n",
      "Inserte un número mayor. Te quedan 5 intentos.\n",
      "Inserte un número mayor. Te quedan 4 intentos.\n",
      "Inserte un número mayor. Te quedan 3 intentos.\n",
      "Inserte un número mayor. Te quedan 2 intentos.\n",
      "Inserte un número mayor. Te quedan 1 intentos.\n",
      "Ha superado el número de intentos. Acceso denegado\n"
     ]
    }
   ],
   "source": [
    "intento = 0\n",
    "num_aleatorio = np.random.randint(1,101) # Generamos un número aleatorio entre 1 y 100\n",
    "\n",
    "while intento < 9 or intento == 9: \n",
    "    numero = int(input('¿Conseguirás acertar el número correcto? Inserte un número entre el 1 al 100. Dispones de 10 intentos: ')) # input devuelve una cadena de texto, necesitamos pasarla a entero\n",
    "    if intento == 9:\n",
    "        print('Ha superado el número de intentos. Acceso denegado')\n",
    "            \n",
    "    elif numero < num_aleatorio:\n",
    "            \n",
    "        intentos_restantes = 9 - intento\n",
    "        print(f'Inserte un número mayor. Te quedan {intentos_restantes} intentos.')\n",
    "            \n",
    "    elif numero > num_aleatorio:\n",
    "            \n",
    "        intentos_restantes = 9 - intento\n",
    "        print(f'Inserte un número menor. Te quedan {intentos_restantes} intentos.')\n",
    "            \n",
    "    else:\n",
    "        print('¡Enhorabuena, has acertado!')\n",
    "        break\n",
    "        \n",
    "    intento += 1    \n"
   ]
  },
  {
   "cell_type": "code",
   "execution_count": 5,
   "metadata": {},
   "outputs": [
    {
     "name": "stdout",
     "output_type": "stream",
     "text": [
      "Inserte un número mayor\n",
      "Inserte un número mayor\n",
      "Inserte un número mayor\n",
      "Inserte un número menor\n",
      "Inserte un número mayor\n",
      "Inserte un número mayor\n",
      "Inserte un número mayor\n",
      "Inserte un número mayor\n"
     ]
    }
   ],
   "source": [
    "num_aleatorio = np.random.randint(1,101) # Generamos un número aleatorio entre 1 y 100\n",
    "for i in range(10): # Le damos al usuario 10 intentos\n",
    "    intento = int(input('¿Conseguirás acertar el número correcto? Inserte un número entre el 1 al 100. Dispones de 10 intentos: ')) # input devuelve una cadena de texto, necesitamos pasarla a entero\n",
    "    if intento == num_aleatorio:\n",
    "        print('¡Enhorabuena, has acertado!')\n",
    "        break\n",
    "    elif intento == 'exit':\n",
    "        \n",
    "    else:\n",
    "        if intento < num_aleatorio:\n",
    "            print('Inserte un número mayor')\n",
    "        else:\n",
    "            \n",
    "            print('Inserte un número menor')\n",
    "    \n",
    "        \n",
    "print('Has agotado el número de intentos. El número correcto era:', num_aleatorio)"
   ]
  }
 ],
 "metadata": {
  "kernelspec": {
   "display_name": "Python 3",
   "language": "python",
   "name": "python3"
  },
  "language_info": {
   "codemirror_mode": {
    "name": "ipython",
    "version": 3
   },
   "file_extension": ".py",
   "mimetype": "text/x-python",
   "name": "python",
   "nbconvert_exporter": "python",
   "pygments_lexer": "ipython3",
   "version": "3.10.10"
  }
 },
 "nbformat": 4,
 "nbformat_minor": 2
}
